{
 "cells": [
  {
   "cell_type": "code",
   "execution_count": null,
   "metadata": {},
   "outputs": [],
   "source": [
    "from requests import get, post\n",
    "from dotenv import load_dotenv, find_dotenv\n",
    "import os\n",
    "import pandas as pd\n",
    "load_dotenv(find_dotenv())"
   ]
  },
  {
   "cell_type": "code",
   "execution_count": null,
   "metadata": {},
   "outputs": [],
   "source": [
    "auth = f\"Bearer BQAvliT5WUSg9VYV6HPaDh2RA9PtkCZqzU249YCbipIt_i_8zbIPPGy8PDdaaKBTM70839oPfpxzvu4fMSpAzsbHshI46gD4DmKsLawft5yFyvwY_y_oyggzE22QZ7Ek4YlyHEFsZ5OJzT74_bfEcTV6I04-udQ\"\n",
    "headers = {\"Accept\": \"application/json\", \"Content-Type\": \"application/json\", \"Authorization\": auth}\n"
   ]
  },
  {
   "cell_type": "code",
   "execution_count": null,
   "metadata": {},
   "outputs": [],
   "source": [
    "artists = {}\n",
    "songs = []\n",
    "\n",
    "def get_total_song_count():\n",
    "    playlist_res = get(f'https://api.spotify.com/v1/playlists/{os.getenv(\"PLAYLIST_ID\")}', headers=headers)\n",
    "    return playlist_res.json()[\"tracks\"][\"total\"]\n",
    "\n",
    "\n",
    "def add_genres(list, genres):\n",
    "    for genre in genres:\n",
    "        if genre not in list:\n",
    "            list.append(genre)\n",
    "    \n",
    "    return list\n",
    "\n",
    "def get_song_genres(song):\n",
    "    genres = []\n",
    "    for artist in song[\"track\"][\"artists\"]:\n",
    "        id = artist[\"id\"]\n",
    "        if id not in artists:\n",
    "            artist_genres_res = get(f'https://api.spotify.com/v1/artists/{id}', headers=headers)\n",
    "            artist_genres = artist_genres_res.json()[\"genres\"]\n",
    "            genres = add_genres(genres, artist_genres)\n",
    "            artists[id] = artist_genres\n",
    "        else:\n",
    "            genres = add_genres(genres, artists[id])\n",
    "\n",
    "    return genres\n",
    "\n",
    "def song_data(song):\n",
    "    return song[\"track\"]['id'], song[\"track\"]['name']\n"
   ]
  },
  {
   "cell_type": "code",
   "execution_count": null,
   "metadata": {},
   "outputs": [],
   "source": [
    "\n",
    "\n",
    "all_genres = []\n",
    "for offset in range(0, get_total_song_count(), 100):\n",
    "    all_genres_res = get(f'https://api.spotify.com/v1/playlists/{os.getenv(\"PLAYLIST_ID\")}/tracks?limit=100&offset={offset}', headers=headers)\n",
    "    for song in all_genres_res.json()[\"items\"]:\n",
    "        (id, name), song_genres = song_data(song), get_song_genres(song)\n",
    "        songs.append({\"id\": id, \"name\": name, \"genres\": song_genres})\n",
    "        all_genres = add_genres(all_genres, song_genres)\n"
   ]
  },
  {
   "cell_type": "code",
   "execution_count": null,
   "metadata": {},
   "outputs": [],
   "source": [
    "playlist = pd.DataFrame(data=songs, columns=['id', 'name', 'genres'])"
   ]
  },
  {
   "cell_type": "code",
   "execution_count": null,
   "metadata": {},
   "outputs": [],
   "source": [
    "playlist['genres'].value_counts()"
   ]
  },
  {
   "cell_type": "code",
   "execution_count": null,
   "metadata": {},
   "outputs": [],
   "source": [
    "import numpy as np\n",
    "playlist[\"genres_indexed\"] = [[np.any(genre) == all_genres_x for all_genres_x in all_genres]  for genre in playlist['genres']]\n"
   ]
  },
  {
   "cell_type": "code",
   "execution_count": null,
   "metadata": {},
   "outputs": [],
   "source": [
    "[[[i or j or x for j in playlist['genres_indexed'][0][0]] for i in playlist['genres_indexed'][1][0]] for x in playlist['genres_indexed'][2][0]]"
   ]
  },
  {
   "cell_type": "code",
   "execution_count": null,
   "metadata": {},
   "outputs": [],
   "source": [
    "pd.Series(playlist[\"genres_indexed\"][0]).value_counts()"
   ]
  }
 ],
 "metadata": {
  "interpreter": {
   "hash": "cfcfbbd76e88e95dc35e2ca9edf0c1e882d0553cc29bc4cac8c0f4eabeb0ecb9"
  },
  "kernelspec": {
   "display_name": "Python 3.10.1 64-bit",
   "language": "python",
   "name": "python3"
  },
  "language_info": {
   "codemirror_mode": {
    "name": "ipython",
    "version": 3
   },
   "file_extension": ".py",
   "mimetype": "text/x-python",
   "name": "python",
   "nbconvert_exporter": "python",
   "pygments_lexer": "ipython3",
   "version": "3.9.6"
  },
  "orig_nbformat": 4
 },
 "nbformat": 4,
 "nbformat_minor": 2
}
