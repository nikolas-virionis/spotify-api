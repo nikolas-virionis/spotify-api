{
 "cells": [
  {
   "cell_type": "code",
   "execution_count": 339,
   "metadata": {},
   "outputs": [
    {
     "data": {
      "text/plain": [
       "True"
      ]
     },
     "execution_count": 339,
     "metadata": {},
     "output_type": "execute_result"
    }
   ],
   "source": [
    "from requests import get, post, put\n",
    "from dotenv import load_dotenv, find_dotenv\n",
    "import os\n",
    "import pandas as pd\n",
    "load_dotenv(find_dotenv())\n"
   ]
  },
  {
   "cell_type": "code",
   "execution_count": 360,
   "metadata": {},
   "outputs": [],
   "source": [
    "auth = f\"Bearer BQDHY7A_g22I5lwW2RSmGucJHHZVffcnBe53j5D383jR7NXBcDIPEmfEsQ_Q9qbrPZPJPIcGFR6beFhG_F40kTV4oHoX59UnVfb6JtyPV0a3kH9Z3vuNohoisH5rAdUau6-BLk6SUL6quIJpa5NqNnpsprxV5tERSQk1uoH4YpMmAvL8eOnJg9O50Vftxh_6Ey9ePi682N2iVL-z9ChRqMvcCwE-Tm6ZZBN3xhc3ein818geYwbOkOWhXwZ7\"\n",
    "headers = {\"Accept\": \"application/json\",\n",
    "           \"Content-Type\": \"application/json\", \"Authorization\": auth}\n"
   ]
  },
  {
   "cell_type": "code",
   "execution_count": null,
   "metadata": {},
   "outputs": [],
   "source": [
    "artists = {}\n",
    "songs = []\n",
    "\n",
    "\n",
    "def get_total_song_count():\n",
    "    playlist_res = get(\n",
    "        f'https://api.spotify.com/v1/playlists/{os.getenv(\"PLAYLIST_ID\")}', headers=headers)\n",
    "    return playlist_res.json()[\"tracks\"][\"total\"]\n",
    "\n",
    "\n",
    "def add_genres(list, genres):\n",
    "    for genre in genres:\n",
    "        if genre not in list:\n",
    "            list.append(genre)\n",
    "\n",
    "    return list\n",
    "\n",
    "\n",
    "def get_song_genres(song):\n",
    "    genres = []\n",
    "    for artist in song[\"track\"][\"artists\"]:\n",
    "        id = artist[\"id\"]\n",
    "        if id not in artists:\n",
    "            artist_genres_res = get(\n",
    "                f'https://api.spotify.com/v1/artists/{id}', headers=headers)\n",
    "            artist_genres = artist_genres_res.json()[\"genres\"]\n",
    "            genres = add_genres(genres, artist_genres)\n",
    "            artists[artist[\"name\"]] = artist_genres\n",
    "        else:\n",
    "            genres = add_genres(genres, artists[id])\n",
    "\n",
    "    return genres\n",
    "\n",
    "\n",
    "def song_data(song):\n",
    "    return song[\"track\"]['id'], song[\"track\"]['name'], song[\"track\"]['popularity'], [artist[\"name\"] for artist in song[\"track\"][\"artists\"]]\n"
   ]
  },
  {
   "cell_type": "code",
   "execution_count": null,
   "metadata": {},
   "outputs": [],
   "source": [
    "\n",
    "\n",
    "all_genres = []\n",
    "for offset in range(0, get_total_song_count(), 100):\n",
    "    all_genres_res = get(\n",
    "        f'https://api.spotify.com/v1/playlists/{os.getenv(\"PLAYLIST_ID\")}/tracks?limit=100&offset={offset}', headers=headers)\n",
    "    for song in all_genres_res.json()[\"items\"]:\n",
    "        (id, name, popularity, artist), song_genres = song_data(\n",
    "            song), get_song_genres(song)\n",
    "        songs.append({\"id\": id, \"name\": name, \"artists\": artist,\n",
    "                     \"popularity\": popularity, \"genres\": song_genres})\n",
    "        all_genres = add_genres(all_genres, song_genres)\n"
   ]
  },
  {
   "cell_type": "code",
   "execution_count": null,
   "metadata": {},
   "outputs": [],
   "source": [
    "playlist = pd.DataFrame(data=songs, columns=[\n",
    "                        'id', 'name', 'artists', 'popularity', 'genres'])\n"
   ]
  },
  {
   "cell_type": "code",
   "execution_count": null,
   "metadata": {},
   "outputs": [],
   "source": [
    "playlist\n"
   ]
  },
  {
   "cell_type": "code",
   "execution_count": null,
   "metadata": {},
   "outputs": [],
   "source": [
    "all_artists = list(artists.keys())\n"
   ]
  },
  {
   "cell_type": "code",
   "execution_count": null,
   "metadata": {},
   "outputs": [],
   "source": [
    "def genres_indexed(genres: list[str]) -> list[int]:\n",
    "    indexed = []\n",
    "    for all_genres_x in all_genres:\n",
    "\n",
    "        continue_outer = False\n",
    "        for genre in genres:\n",
    "            index = all_genres_x == genre\n",
    "            if index:\n",
    "                continue_outer = True\n",
    "                indexed.append(int(True))\n",
    "                break\n",
    "\n",
    "        if continue_outer:\n",
    "            continue\n",
    "\n",
    "        indexed.append(int(False))\n",
    "\n",
    "    return indexed\n",
    "\n",
    "\n",
    "def artists_indexed(artists: list[str]) -> list[int]:\n",
    "    indexed = []\n",
    "    for all_artists_x in all_artists:\n",
    "\n",
    "        continue_outer = False\n",
    "        for genre in artists:\n",
    "            index = all_artists_x == genre\n",
    "            if index:\n",
    "                continue_outer = True\n",
    "                indexed.append(int(True))\n",
    "                break\n",
    "\n",
    "        if continue_outer:\n",
    "            continue\n",
    "\n",
    "        indexed.append(int(False))\n",
    "\n",
    "    return indexed\n"
   ]
  },
  {
   "cell_type": "code",
   "execution_count": null,
   "metadata": {},
   "outputs": [],
   "source": [
    "playlist[\"genres_indexed\"] = [genres_indexed(\n",
    "    playlist[\"genres\"][x]) for x in range(len(playlist[\"genres\"]))]\n"
   ]
  },
  {
   "cell_type": "code",
   "execution_count": null,
   "metadata": {},
   "outputs": [],
   "source": [
    "import numpy as np\n",
    "playlist[\"genres_indexed\"] = [np.array(\n",
    "    playlist[\"genres_indexed\"][x]) for x in range(len(playlist[\"genres_indexed\"]))]\n"
   ]
  },
  {
   "cell_type": "code",
   "execution_count": null,
   "metadata": {},
   "outputs": [],
   "source": [
    "playlist[\"artists_indexed\"] = [np.array(artists_indexed(\n",
    "    playlist[\"artists\"][x])) for x in range(len(playlist[\"artists\"]))]\n"
   ]
  },
  {
   "cell_type": "code",
   "execution_count": null,
   "metadata": {},
   "outputs": [],
   "source": [
    "playlist\n"
   ]
  },
  {
   "cell_type": "markdown",
   "metadata": {},
   "source": [
    "## KNN\n"
   ]
  },
  {
   "cell_type": "code",
   "execution_count": null,
   "metadata": {},
   "outputs": [],
   "source": [
    "def knn_prepared_data(df):\n",
    "    df = df[['id', 'name', 'genres', 'artists',\n",
    "             'popularity', 'genres_indexed', 'artists_indexed']]\n",
    "    list = []\n",
    "    for index in range(len(df['id'])):\n",
    "        list.append({'id': df['id'][index], 'name': df['name'][index], 'genres': df['genres'][index], 'artists': df['artists'][index],\n",
    "                    'popularity': df['popularity'][index], 'genres_indexed': df['genres_indexed'][index], 'artists_indexed': df['artists_indexed'][index]})\n",
    "\n",
    "    return list\n"
   ]
  },
  {
   "cell_type": "code",
   "execution_count": 332,
   "metadata": {},
   "outputs": [],
   "source": [
    "from scipy import spatial\n",
    "\n",
    "\n",
    "def ComputeDistance(a, b):\n",
    "    genres_distance = spatial.distance.cosine(\n",
    "        a['genres_indexed'], b['genres_indexed'])\n",
    "    artists_distance = spatial.distance.cosine(\n",
    "        a['artists_indexed'], b['artists_indexed'])\n",
    "    popularity_distance = abs(a['popularity'] - b['popularity'])\n",
    "    # print(genres_distance, artists_distance, popularity_distance)\n",
    "    return genres_distance + artists_distance * 0.3 + 0.0065 * popularity_distance\n"
   ]
  },
  {
   "cell_type": "code",
   "execution_count": 333,
   "metadata": {},
   "outputs": [],
   "source": [
    "song_dict = knn_prepared_data(playlist)\n"
   ]
  },
  {
   "cell_type": "code",
   "execution_count": 334,
   "metadata": {},
   "outputs": [],
   "source": [
    "import operator\n",
    "\n",
    "\n",
    "def getNeighbors(song, K):\n",
    "    distances = []\n",
    "    for song_index, song_value in enumerate(song_dict):\n",
    "        if (song_index != song):\n",
    "            dist = ComputeDistance(song_dict[song], song_value)\n",
    "            distances.append((song_index, dist))\n",
    "    distances.sort(key=operator.itemgetter(1))\n",
    "    neighbors = []\n",
    "    for x in range(K):\n",
    "        neighbors.append(distances[x][0])\n",
    "    return neighbors\n"
   ]
  },
  {
   "cell_type": "markdown",
   "metadata": {},
   "source": [
    "## Song options\n",
    "\n",
    "### Choose one of these to get the 50 closest songs to it\n"
   ]
  },
  {
   "cell_type": "code",
   "execution_count": 335,
   "metadata": {},
   "outputs": [
    {
     "data": {
      "text/plain": [
       "0      Die For You (feat. Dominic Fike)\n",
       "1         Get You The Moon (feat. Snøw)\n",
       "2                           Out Of Love\n",
       "3          I'm Not Enough and I'm Sorry\n",
       "4                                change\n",
       "                     ...               \n",
       "980      i love you but you make me cry\n",
       "981              thenineteenseventyfive\n",
       "982    I'm Leaving, Sorry For Your Loss\n",
       "983               Something Super Sweet\n",
       "984                  Cut My Fingers Off\n",
       "Name: name, Length: 985, dtype: object"
      ]
     },
     "execution_count": 335,
     "metadata": {},
     "output_type": "execute_result"
    }
   ],
   "source": [
    "playlist['name']\n"
   ]
  },
  {
   "cell_type": "code",
   "execution_count": 365,
   "metadata": {},
   "outputs": [],
   "source": [
    "# Set the song name below\n",
    "top_5 = get('https://api.spotify.com/v1/me/top/tracks?time_range=short_term&limit=5', headers=headers).json()\n",
    "song_name = 'All Without You'\n",
    "top_5_names = map(lambda song: song['name'],top_5['items'])\n",
    "for i in top_5_names:\n",
    "    if i in playlist['name']:\n",
    "        song_name = i\n",
    "        break"
   ]
  },
  {
   "cell_type": "code",
   "execution_count": 338,
   "metadata": {},
   "outputs": [
    {
     "name": "stdout",
     "output_type": "stream",
     "text": [
      "All Without You ['Laeland', 'Snøw'] ['lo-fi chill', 'sad lo-fi', 'sad rap'] 48\n",
      "1. I'm inlove but... \t ['Laeland', 'Snøw'] \t ['lo-fi chill', 'sad lo-fi', 'sad rap'] \t 60\n",
      "2. Tell Me You Want Me \t ['Snøw', 'Nuxe'] \t ['sad lo-fi', 'sad rap', 'lo-fi chill'] \t 38\n",
      "3. this is bs. \t ['Skinny Atlas', 'Laeland', 'Snøw'] \t ['emo rap', 'lo-fi chill', 'sad lo-fi', 'sad rap'] \t 53\n",
      "4. I never wanna lose you \t ['Teqkoi', 'Snøw'] \t ['lo-fi chill', 'sad lo-fi', 'sad rap'] \t 60\n",
      "5. Ryu Kick \t ['Snøw', 'Teqkoi'] \t ['sad lo-fi', 'sad rap', 'lo-fi chill'] \t 32\n",
      "6. If I Die \t ['Snøw', 'Josiah MacCartney', 'Criggoh', 'Julia Alexa'] \t ['sad lo-fi', 'sad rap', 'lo-fi chill'] \t 38\n",
      "7. Life's a Blur \t ['Teqkoi', 'Snøw'] \t ['lo-fi chill', 'sad lo-fi', 'sad rap'] \t 31\n",
      "8. I'm Not Enough and I'm Sorry \t ['Teqkoi', 'Snøw'] \t ['lo-fi chill', 'sad lo-fi', 'sad rap'] \t 69\n",
      "9. summer nights \t ['Skinny Atlas', 'Laeland', 'Snøw'] \t ['emo rap', 'lo-fi chill', 'sad lo-fi', 'sad rap'] \t 63\n",
      "10. You Don't Want Me Anymore \t ['Snøw', 'Teqkoi'] \t ['sad lo-fi', 'sad rap', 'lo-fi chill'] \t 71\n",
      "11. Hopefully Someday \t ['YouSane'] \t [] \t 48\n",
      "12. Golden Eyes \t ['HANNI'] \t [] \t 48\n",
      "13. Who Are You? / PLAYBOY BUNNY \t ['Wario Slim'] \t [] \t 48\n",
      "14. Say Goodbye \t ['Monty Datta', 'Snøw'] \t ['lo-fi chill', 'sad lo-fi', 'sad rap'] \t 72\n",
      "15. I Just Wanna Die \t ['DonL66t'] \t [] \t 47\n",
      "16. Tired \t ['Anke Richards'] \t [] \t 49\n",
      "17. Honey \t ['Nathan Benjamin'] \t [] \t 49\n",
      "18. throw it all away (feat. Jomie) \t ['Powfu', 'Jomie'] \t ['sad rap', 'lo-fi chill', 'sad lo-fi'] \t 47\n",
      "19. Copenhagen \t ['Jack Vallier'] \t [] \t 49\n",
      "20. You're Everything I Need \t ['Imfinenow', 'yaeow'] \t ['lo-fi chill', 'sad lo-fi', 'sad rap'] \t 49\n",
      "21. im all alone \t ['lael'] \t [] \t 49\n",
      "22. I keep on falling \t ['Gabriella Whited'] \t [] \t 47\n",
      "23. Charlie \t ['Sam Tompkins'] \t [] \t 47\n",
      "24. can't give back your love \t ['clide'] \t [] \t 49\n",
      "25. I'm Leaving, Sorry For Your Loss \t ['iamnotshane'] \t [] \t 49\n",
      "26. Something to Cry About \t ['Alec Chambers'] \t [] \t 46\n",
      "27. Mister Mister \t ['Mishaal'] \t ['lo-fi chill', 'sad lo-fi', 'sad rap'] \t 50\n",
      "28. Social Anxiety \t ['Skye'] \t [] \t 46\n",
      "29. How Miserable Do I Have to Be Before You're Happy \t ['Beowülf'] \t ['lo-fi chill', 'sad lo-fi', 'sad rap'] \t 46\n",
      "30. Honest Mistake \t ['Max Embers'] \t [] \t 46\n",
      "31. Sorry \t ['Matt Haughey'] \t [] \t 46\n",
      "32. Switchblade \t ['neverwaves'] \t [] \t 50\n",
      "33. Cut My Fingers Off \t ['Ethan Bortnick'] \t [] \t 50\n",
      "34. Cross My Heart \t ['Nezzy'] \t [] \t 45\n",
      "35. Somebody Else \t ['D at Sea'] \t [] \t 45\n",
      "36. come home \t ['lilspirit'] \t [] \t 51\n",
      "37. Unlove \t ['Lyle Kam'] \t [] \t 51\n",
      "38. Not Ready To Go \t ['HARLOR'] \t [] \t 45\n",
      "39. Dim the Lights \t ['Ricky Rosen'] \t [] \t 51\n",
      "40. Tell Me \t ['Era', 'lilspirit'] \t [] \t 52\n",
      "41. Wish I Never Loved You \t ['Bolshiee'] \t [] \t 44\n",
      "42. Hold on Tighter to Me \t ['Tedy'] \t [] \t 44\n",
      "43. tANGERine \t ['Collin Selman'] \t [] \t 44\n",
      "44. blue \t ['the bootleg boy', 'artemis orion'] \t ['lo-fi chill', 'sad lo-fi', 'sad rap'] \t 52\n",
      "45. Firewood \t ['Olympus Mars'] \t [] \t 44\n",
      "46. I'm Glad You're Mine \t ['Airr'] \t [] \t 43\n",
      "47. I hurt you, I don't deserve you. \t ['Gion'] \t [] \t 43\n",
      "48. stay for long \t ['SANDRO'] \t [] \t 43\n",
      "49. I'm So Happy \t ['Monica Riskey'] \t [] \t 43\n",
      "50. Out of Love \t ['Peter Manos'] \t [] \t 53\n"
     ]
    },
    {
     "name": "stderr",
     "output_type": "stream",
     "text": [
      "C:\\Python39\\lib\\site-packages\\scipy\\spatial\\distance.py:699: RuntimeWarning: invalid value encountered in double_scalars\n",
      "  dist = 1.0 - uv / np.sqrt(uu * vv)\n"
     ]
    }
   ],
   "source": [
    "\n",
    "K = 50\n",
    "item = playlist[[playlist['name'][x] ==\n",
    "                 song_name for x in range(len(playlist['name']))]]\n",
    "index = item.index[0]\n",
    "neighbors = getNeighbors(index, K)\n",
    "print(song_dict[index]['name'], song_dict[index]['artists'],\n",
    "      song_dict[index]['genres'], song_dict[index]['popularity'])\n",
    "for neighbor, index in zip(neighbors, range(1, K + 1)):\n",
    "    print(\n",
    "        f'{index}. {song_dict[neighbor][\"name\"]} \\t {song_dict[neighbor][\"artists\"]} \\t {song_dict[neighbor][\"genres\"]} \\t {song_dict[neighbor][\"popularity\"]}')\n"
   ]
  },
  {
   "cell_type": "code",
   "execution_count": 358,
   "metadata": {},
   "outputs": [],
   "source": [
    "import json\n",
    "data = {\"name\": f\"\\'{song_name}\\' Related\", \"description\": f\"Songs related to {song_name}\", \"public\": True}\n",
    "playlist_creation = post(f'https://api.spotify.com/v1/users/{os.getenv(\"USER_ID\")}/playlists', headers=headers, data=json.dumps(data))\n",
    "new_id = playlist_creation.json()['id']"
   ]
  },
  {
   "cell_type": "code",
   "execution_count": 359,
   "metadata": {},
   "outputs": [
    {
     "data": {
      "text/plain": [
       "{'snapshot_id': 'MyxlMGRmYjA5YTg5YjdhMzA1OTdkNzVjMDAzNDk2NDIzMjI2NTdjYmU4'}"
      ]
     },
     "execution_count": 359,
     "metadata": {},
     "output_type": "execute_result"
    }
   ],
   "source": [
    "item = playlist[[playlist['name'][x] ==\n",
    "                 song_name for x in range(len(playlist['name']))]]\n",
    "index = item.index[0]\n",
    "song_uris = f'spotify:track:{song_dict[index][\"id\"]}'\n",
    "for neighbor in neighbors:\n",
    "    song_uris += f',spotify:track:{song_dict[neighbor][\"id\"]}'\n",
    "\n",
    "add_songs_req = post(f'https://api.spotify.com/v1/playlists/{new_id}/tracks?uris={song_uris}', headers=headers, data=json.dumps({}))\n",
    "add_songs_req.json()"
   ]
  }
 ],
 "metadata": {
  "interpreter": {
   "hash": "cfcfbbd76e88e95dc35e2ca9edf0c1e882d0553cc29bc4cac8c0f4eabeb0ecb9"
  },
  "kernelspec": {
   "display_name": "Python 3.10.1 64-bit",
   "language": "python",
   "name": "python3"
  },
  "language_info": {
   "codemirror_mode": {
    "name": "ipython",
    "version": 3
   },
   "file_extension": ".py",
   "mimetype": "text/x-python",
   "name": "python",
   "nbconvert_exporter": "python",
   "pygments_lexer": "ipython3",
   "version": "3.9.6"
  },
  "orig_nbformat": 4
 },
 "nbformat": 4,
 "nbformat_minor": 2
}
