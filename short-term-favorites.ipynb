{
 "cells": [
  {
   "cell_type": "code",
   "execution_count": 2,
   "metadata": {},
   "outputs": [],
   "source": [
    "from requests import get, post, delete\n",
    "import pandas as pd\n",
    "from sensitive import *"
   ]
  },
  {
   "cell_type": "code",
   "execution_count": 3,
   "metadata": {},
   "outputs": [],
   "source": [
    "auth = f\"Bearer {AUTH_TOKEN}\"\n",
    "headers = {\"Accept\": \"application/json\",\n",
    "           \"Content-Type\": \"application/json\", \"Authorization\": auth}\n"
   ]
  },
  {
   "cell_type": "code",
   "execution_count": 4,
   "metadata": {},
   "outputs": [],
   "source": [
    "artists = {}\n",
    "songs = []\n",
    "\n",
    "\n",
    "def get_total_song_count():\n",
    "    playlist_res = get(\n",
    "        f'https://api.spotify.com/v1/playlists/{PLAYLIST_ID}', headers=headers)\n",
    "    return playlist_res.json()[\"tracks\"][\"total\"]\n",
    "\n",
    "\n",
    "def add_genres(list, genres):\n",
    "    for genre in genres:\n",
    "        if genre not in list:\n",
    "            list.append(genre)\n",
    "\n",
    "    return list\n",
    "\n",
    "\n",
    "def get_song_genres(song):\n",
    "    genres = []\n",
    "    song_artists = \"\"\n",
    "    try:\n",
    "        song_artists = song[\"track\"][\"artists\"]\n",
    "    except Exception:\n",
    "        song_artists = song[\"artists\"]\n",
    "\n",
    "    for artist in song_artists:\n",
    "        id = artist[\"id\"]\n",
    "        if id not in artists:\n",
    "            artist_genres_res = get(\n",
    "                f'https://api.spotify.com/v1/artists/{id}', headers=headers)\n",
    "            try:\n",
    "                artist_genres = artist_genres_res.json()[\"genres\"]\n",
    "            except Exception:\n",
    "                print(artist_genres_res.json())\n",
    "            genres = add_genres(genres, artist_genres)\n",
    "            artists[artist[\"name\"]] = artist_genres\n",
    "        else:\n",
    "            genres = add_genres(genres, artists[id])\n",
    "\n",
    "    return genres\n",
    "\n",
    "\n",
    "def song_data(song):\n",
    "    return song[\"track\"]['id'], song[\"track\"]['name'], song[\"track\"]['popularity'], [artist[\"name\"] for artist in song[\"track\"][\"artists\"]]\n"
   ]
  },
  {
   "cell_type": "code",
   "execution_count": 4,
   "metadata": {},
   "outputs": [],
   "source": [
    "total_song_count = get_total_song_count()"
   ]
  },
  {
   "cell_type": "code",
   "execution_count": 6,
   "metadata": {},
   "outputs": [],
   "source": [
    "\n",
    "\n",
    "all_genres = []\n",
    "for offset in range(0, total_song_count, 100):\n",
    "    all_genres_res = get(\n",
    "        f'https://api.spotify.com/v1/playlists/{PLAYLIST_ID}/tracks?limit=100&offset={offset}', headers=headers)\n",
    "    for song in all_genres_res.json()[\"items\"]:\n",
    "        (id, name, popularity, artist), song_genres = song_data(\n",
    "            song), get_song_genres(song)\n",
    "        songs.append({\"id\": id, \"name\": name, \"artists\": artist,\n",
    "                     \"popularity\": popularity, \"genres\": song_genres})\n",
    "        all_genres = add_genres(all_genres, song_genres)\n"
   ]
  },
  {
   "cell_type": "code",
   "execution_count": 7,
   "metadata": {},
   "outputs": [],
   "source": [
    "songs = songs[-total_song_count:]"
   ]
  },
  {
   "cell_type": "code",
   "execution_count": 8,
   "metadata": {},
   "outputs": [],
   "source": [
    "playlist = pd.DataFrame(data=songs, columns=[\n",
    "                        'id', 'name', 'artists', 'popularity', 'genres'])\n"
   ]
  },
  {
   "cell_type": "code",
   "execution_count": 9,
   "metadata": {},
   "outputs": [
    {
     "data": {
      "text/html": [
       "<div>\n",
       "<style scoped>\n",
       "    .dataframe tbody tr th:only-of-type {\n",
       "        vertical-align: middle;\n",
       "    }\n",
       "\n",
       "    .dataframe tbody tr th {\n",
       "        vertical-align: top;\n",
       "    }\n",
       "\n",
       "    .dataframe thead th {\n",
       "        text-align: right;\n",
       "    }\n",
       "</style>\n",
       "<table border=\"1\" class=\"dataframe\">\n",
       "  <thead>\n",
       "    <tr style=\"text-align: right;\">\n",
       "      <th></th>\n",
       "      <th>id</th>\n",
       "      <th>name</th>\n",
       "      <th>artists</th>\n",
       "      <th>popularity</th>\n",
       "      <th>genres</th>\n",
       "    </tr>\n",
       "  </thead>\n",
       "  <tbody>\n",
       "    <tr>\n",
       "      <th>0</th>\n",
       "      <td>6Z2pe32hFnUd2x5NgO5KFc</td>\n",
       "      <td>Die For You (feat. Dominic Fike)</td>\n",
       "      <td>[Justin Bieber, Dominic Fike]</td>\n",
       "      <td>57</td>\n",
       "      <td>[canadian pop, pop, alternative pop rock]</td>\n",
       "    </tr>\n",
       "    <tr>\n",
       "      <th>1</th>\n",
       "      <td>4ZLzoOkj0MPWrTLvooIuaa</td>\n",
       "      <td>Get You The Moon (feat. Snøw)</td>\n",
       "      <td>[Kina, Snøw]</td>\n",
       "      <td>83</td>\n",
       "      <td>[sad lo-fi, sad rap]</td>\n",
       "    </tr>\n",
       "    <tr>\n",
       "      <th>2</th>\n",
       "      <td>4WzhjxvLP95y7AMDy0Atwb</td>\n",
       "      <td>Out Of Love</td>\n",
       "      <td>[Alessia Cara]</td>\n",
       "      <td>77</td>\n",
       "      <td>[canadian contemporary r&amp;b, canadian pop, danc...</td>\n",
       "    </tr>\n",
       "    <tr>\n",
       "      <th>3</th>\n",
       "      <td>4P1L6AniTDJzANaubzWGYs</td>\n",
       "      <td>I'm Not Enough and I'm Sorry</td>\n",
       "      <td>[Teqkoi, Snøw]</td>\n",
       "      <td>69</td>\n",
       "      <td>[emo rap, lo-fi chill, sad lo-fi, sad rap]</td>\n",
       "    </tr>\n",
       "    <tr>\n",
       "      <th>4</th>\n",
       "      <td>6Rf3dWdNQs5LTqFOiavqQr</td>\n",
       "      <td>Canada (feat. Alessia Cara)</td>\n",
       "      <td>[Lauv, Alessia Cara]</td>\n",
       "      <td>60</td>\n",
       "      <td>[dance pop, electropop, pop, canadian contempo...</td>\n",
       "    </tr>\n",
       "    <tr>\n",
       "      <th>...</th>\n",
       "      <td>...</td>\n",
       "      <td>...</td>\n",
       "      <td>...</td>\n",
       "      <td>...</td>\n",
       "      <td>...</td>\n",
       "    </tr>\n",
       "    <tr>\n",
       "      <th>990</th>\n",
       "      <td>4cCVkLAOxwWVE21I651SOh</td>\n",
       "      <td>text me when u get home</td>\n",
       "      <td>[Ivytide]</td>\n",
       "      <td>37</td>\n",
       "      <td>[chill pop]</td>\n",
       "    </tr>\n",
       "    <tr>\n",
       "      <th>991</th>\n",
       "      <td>77OXCuJjR83b2mnp0HmYMo</td>\n",
       "      <td>False Art</td>\n",
       "      <td>[Ben Kessler, Lizzy McAlpine]</td>\n",
       "      <td>53</td>\n",
       "      <td>[gen z singer-songwriter, alt z, boston folk, ...</td>\n",
       "    </tr>\n",
       "    <tr>\n",
       "      <th>992</th>\n",
       "      <td>7dMelypWXvdBG5RpRO1RJU</td>\n",
       "      <td>Purple Candy</td>\n",
       "      <td>[New Friends]</td>\n",
       "      <td>53</td>\n",
       "      <td>[]</td>\n",
       "    </tr>\n",
       "    <tr>\n",
       "      <th>993</th>\n",
       "      <td>0sEpSjknnHdACZVc7jbmgv</td>\n",
       "      <td>i miss u</td>\n",
       "      <td>[Sammyseven]</td>\n",
       "      <td>43</td>\n",
       "      <td>[]</td>\n",
       "    </tr>\n",
       "    <tr>\n",
       "      <th>994</th>\n",
       "      <td>01WJWHv12F3nWeXGYsmOOs</td>\n",
       "      <td>Our Way Out</td>\n",
       "      <td>[Nico Collins]</td>\n",
       "      <td>57</td>\n",
       "      <td>[alt z, social media pop]</td>\n",
       "    </tr>\n",
       "  </tbody>\n",
       "</table>\n",
       "<p>995 rows × 5 columns</p>\n",
       "</div>"
      ],
      "text/plain": [
       "                         id                              name  \\\n",
       "0    6Z2pe32hFnUd2x5NgO5KFc  Die For You (feat. Dominic Fike)   \n",
       "1    4ZLzoOkj0MPWrTLvooIuaa     Get You The Moon (feat. Snøw)   \n",
       "2    4WzhjxvLP95y7AMDy0Atwb                       Out Of Love   \n",
       "3    4P1L6AniTDJzANaubzWGYs      I'm Not Enough and I'm Sorry   \n",
       "4    6Rf3dWdNQs5LTqFOiavqQr       Canada (feat. Alessia Cara)   \n",
       "..                      ...                               ...   \n",
       "990  4cCVkLAOxwWVE21I651SOh           text me when u get home   \n",
       "991  77OXCuJjR83b2mnp0HmYMo                         False Art   \n",
       "992  7dMelypWXvdBG5RpRO1RJU                      Purple Candy   \n",
       "993  0sEpSjknnHdACZVc7jbmgv                          i miss u   \n",
       "994  01WJWHv12F3nWeXGYsmOOs                       Our Way Out   \n",
       "\n",
       "                           artists  popularity  \\\n",
       "0    [Justin Bieber, Dominic Fike]          57   \n",
       "1                     [Kina, Snøw]          83   \n",
       "2                   [Alessia Cara]          77   \n",
       "3                   [Teqkoi, Snøw]          69   \n",
       "4             [Lauv, Alessia Cara]          60   \n",
       "..                             ...         ...   \n",
       "990                      [Ivytide]          37   \n",
       "991  [Ben Kessler, Lizzy McAlpine]          53   \n",
       "992                  [New Friends]          53   \n",
       "993                   [Sammyseven]          43   \n",
       "994                 [Nico Collins]          57   \n",
       "\n",
       "                                                genres  \n",
       "0            [canadian pop, pop, alternative pop rock]  \n",
       "1                                 [sad lo-fi, sad rap]  \n",
       "2    [canadian contemporary r&b, canadian pop, danc...  \n",
       "3           [emo rap, lo-fi chill, sad lo-fi, sad rap]  \n",
       "4    [dance pop, electropop, pop, canadian contempo...  \n",
       "..                                                 ...  \n",
       "990                                        [chill pop]  \n",
       "991  [gen z singer-songwriter, alt z, boston folk, ...  \n",
       "992                                                 []  \n",
       "993                                                 []  \n",
       "994                          [alt z, social media pop]  \n",
       "\n",
       "[995 rows x 5 columns]"
      ]
     },
     "execution_count": 9,
     "metadata": {},
     "output_type": "execute_result"
    }
   ],
   "source": [
    "playlist\n"
   ]
  },
  {
   "cell_type": "code",
   "execution_count": null,
   "metadata": {},
   "outputs": [],
   "source": [
    "df = pd.DataFrame(data=[{'artists':artists, 'songs':songs, 'all_genres':songs}], columns=['artists', 'songs', 'all_genres'])\n",
    "\n",
    "df.to_json('util.json')"
   ]
  },
  {
   "cell_type": "code",
   "execution_count": 10,
   "metadata": {},
   "outputs": [],
   "source": [
    "playlist.to_csv('playlist.csv', header=True, index=None)"
   ]
  },
  {
   "cell_type": "code",
   "execution_count": 5,
   "metadata": {},
   "outputs": [],
   "source": [
    "df = pd.read_json('util.json')\n",
    "\n",
    "artists, songs, all_genres = df['artists'][0], df['songs'][0], df['all_genres'][0]\n"
   ]
  },
  {
   "cell_type": "code",
   "execution_count": 6,
   "metadata": {},
   "outputs": [
    {
     "data": {
      "text/html": [
       "<div>\n",
       "<style scoped>\n",
       "    .dataframe tbody tr th:only-of-type {\n",
       "        vertical-align: middle;\n",
       "    }\n",
       "\n",
       "    .dataframe tbody tr th {\n",
       "        vertical-align: top;\n",
       "    }\n",
       "\n",
       "    .dataframe thead th {\n",
       "        text-align: right;\n",
       "    }\n",
       "</style>\n",
       "<table border=\"1\" class=\"dataframe\">\n",
       "  <thead>\n",
       "    <tr style=\"text-align: right;\">\n",
       "      <th></th>\n",
       "      <th>id</th>\n",
       "      <th>name</th>\n",
       "      <th>artists</th>\n",
       "      <th>popularity</th>\n",
       "      <th>genres</th>\n",
       "    </tr>\n",
       "  </thead>\n",
       "  <tbody>\n",
       "    <tr>\n",
       "      <th>0</th>\n",
       "      <td>6Z2pe32hFnUd2x5NgO5KFc</td>\n",
       "      <td>Die For You (feat. Dominic Fike)</td>\n",
       "      <td>['Justin Bieber', 'Dominic Fike']</td>\n",
       "      <td>57</td>\n",
       "      <td>['canadian pop', 'pop', 'alternative pop rock']</td>\n",
       "    </tr>\n",
       "    <tr>\n",
       "      <th>1</th>\n",
       "      <td>4ZLzoOkj0MPWrTLvooIuaa</td>\n",
       "      <td>Get You The Moon (feat. Snøw)</td>\n",
       "      <td>['Kina', 'Snøw']</td>\n",
       "      <td>83</td>\n",
       "      <td>['sad lo-fi', 'sad rap']</td>\n",
       "    </tr>\n",
       "    <tr>\n",
       "      <th>2</th>\n",
       "      <td>4WzhjxvLP95y7AMDy0Atwb</td>\n",
       "      <td>Out Of Love</td>\n",
       "      <td>['Alessia Cara']</td>\n",
       "      <td>77</td>\n",
       "      <td>['canadian contemporary r&amp;b', 'canadian pop', ...</td>\n",
       "    </tr>\n",
       "    <tr>\n",
       "      <th>3</th>\n",
       "      <td>4P1L6AniTDJzANaubzWGYs</td>\n",
       "      <td>I'm Not Enough and I'm Sorry</td>\n",
       "      <td>['Teqkoi', 'Snøw']</td>\n",
       "      <td>69</td>\n",
       "      <td>['lo-fi chill', 'sad lo-fi', 'sad rap']</td>\n",
       "    </tr>\n",
       "    <tr>\n",
       "      <th>4</th>\n",
       "      <td>6Rf3dWdNQs5LTqFOiavqQr</td>\n",
       "      <td>Canada (feat. Alessia Cara)</td>\n",
       "      <td>['Lauv', 'Alessia Cara']</td>\n",
       "      <td>61</td>\n",
       "      <td>['dance pop', 'electropop', 'pop', 'canadian c...</td>\n",
       "    </tr>\n",
       "    <tr>\n",
       "      <th>...</th>\n",
       "      <td>...</td>\n",
       "      <td>...</td>\n",
       "      <td>...</td>\n",
       "      <td>...</td>\n",
       "      <td>...</td>\n",
       "    </tr>\n",
       "    <tr>\n",
       "      <th>990</th>\n",
       "      <td>77OXCuJjR83b2mnp0HmYMo</td>\n",
       "      <td>False Art</td>\n",
       "      <td>['Ben Kessler', 'Lizzy McAlpine']</td>\n",
       "      <td>53</td>\n",
       "      <td>['gen z singer-songwriter', 'alt z', 'boston f...</td>\n",
       "    </tr>\n",
       "    <tr>\n",
       "      <th>991</th>\n",
       "      <td>7dMelypWXvdBG5RpRO1RJU</td>\n",
       "      <td>Purple Candy</td>\n",
       "      <td>['New Friends']</td>\n",
       "      <td>54</td>\n",
       "      <td>[]</td>\n",
       "    </tr>\n",
       "    <tr>\n",
       "      <th>992</th>\n",
       "      <td>0sEpSjknnHdACZVc7jbmgv</td>\n",
       "      <td>i miss u</td>\n",
       "      <td>['Sammyseven']</td>\n",
       "      <td>43</td>\n",
       "      <td>[]</td>\n",
       "    </tr>\n",
       "    <tr>\n",
       "      <th>993</th>\n",
       "      <td>01WJWHv12F3nWeXGYsmOOs</td>\n",
       "      <td>Our Way Out</td>\n",
       "      <td>['Nico Collins']</td>\n",
       "      <td>57</td>\n",
       "      <td>['alt z', 'social media pop']</td>\n",
       "    </tr>\n",
       "    <tr>\n",
       "      <th>994</th>\n",
       "      <td>6wBsMC2U4dbl4JHl1F5z19</td>\n",
       "      <td>Summer Nights</td>\n",
       "      <td>['Ebmusic', 'bobbyxyz', 'Kina']</td>\n",
       "      <td>15</td>\n",
       "      <td>['sad lo-fi', 'sad rap']</td>\n",
       "    </tr>\n",
       "  </tbody>\n",
       "</table>\n",
       "<p>995 rows × 5 columns</p>\n",
       "</div>"
      ],
      "text/plain": [
       "                         id                              name  \\\n",
       "0    6Z2pe32hFnUd2x5NgO5KFc  Die For You (feat. Dominic Fike)   \n",
       "1    4ZLzoOkj0MPWrTLvooIuaa     Get You The Moon (feat. Snøw)   \n",
       "2    4WzhjxvLP95y7AMDy0Atwb                       Out Of Love   \n",
       "3    4P1L6AniTDJzANaubzWGYs      I'm Not Enough and I'm Sorry   \n",
       "4    6Rf3dWdNQs5LTqFOiavqQr       Canada (feat. Alessia Cara)   \n",
       "..                      ...                               ...   \n",
       "990  77OXCuJjR83b2mnp0HmYMo                         False Art   \n",
       "991  7dMelypWXvdBG5RpRO1RJU                      Purple Candy   \n",
       "992  0sEpSjknnHdACZVc7jbmgv                          i miss u   \n",
       "993  01WJWHv12F3nWeXGYsmOOs                       Our Way Out   \n",
       "994  6wBsMC2U4dbl4JHl1F5z19                     Summer Nights   \n",
       "\n",
       "                               artists  popularity  \\\n",
       "0    ['Justin Bieber', 'Dominic Fike']          57   \n",
       "1                     ['Kina', 'Snøw']          83   \n",
       "2                     ['Alessia Cara']          77   \n",
       "3                   ['Teqkoi', 'Snøw']          69   \n",
       "4             ['Lauv', 'Alessia Cara']          61   \n",
       "..                                 ...         ...   \n",
       "990  ['Ben Kessler', 'Lizzy McAlpine']          53   \n",
       "991                    ['New Friends']          54   \n",
       "992                     ['Sammyseven']          43   \n",
       "993                   ['Nico Collins']          57   \n",
       "994    ['Ebmusic', 'bobbyxyz', 'Kina']          15   \n",
       "\n",
       "                                                genres  \n",
       "0      ['canadian pop', 'pop', 'alternative pop rock']  \n",
       "1                             ['sad lo-fi', 'sad rap']  \n",
       "2    ['canadian contemporary r&b', 'canadian pop', ...  \n",
       "3              ['lo-fi chill', 'sad lo-fi', 'sad rap']  \n",
       "4    ['dance pop', 'electropop', 'pop', 'canadian c...  \n",
       "..                                                 ...  \n",
       "990  ['gen z singer-songwriter', 'alt z', 'boston f...  \n",
       "991                                                 []  \n",
       "992                                                 []  \n",
       "993                      ['alt z', 'social media pop']  \n",
       "994                           ['sad lo-fi', 'sad rap']  \n",
       "\n",
       "[995 rows x 5 columns]"
      ]
     },
     "execution_count": 6,
     "metadata": {},
     "output_type": "execute_result"
    }
   ],
   "source": [
    "all_artists = list(artists.keys())\n",
    "playlist = pd.read_csv('playlist.csv')\n",
    "playlist"
   ]
  },
  {
   "cell_type": "code",
   "execution_count": 7,
   "metadata": {},
   "outputs": [],
   "source": [
    "def genres_indexed(genres):\n",
    "    indexed = []\n",
    "    for all_genres_x in all_genres:\n",
    "\n",
    "        continue_outer = False\n",
    "        for genre in genres:\n",
    "            index = all_genres_x == genre\n",
    "            if index:\n",
    "                continue_outer = True\n",
    "                indexed.append(int(True))\n",
    "                break\n",
    "\n",
    "        if continue_outer:\n",
    "            continue\n",
    "\n",
    "        indexed.append(int(False))\n",
    "\n",
    "    return indexed\n",
    "\n",
    "\n",
    "def artists_indexed(artists):\n",
    "    indexed = []\n",
    "    for all_artists_x in all_artists:\n",
    "\n",
    "        continue_outer = False\n",
    "        for genre in artists:\n",
    "            index = all_artists_x == genre\n",
    "            if index:\n",
    "                continue_outer = True\n",
    "                indexed.append(int(True))\n",
    "                break\n",
    "\n",
    "        if continue_outer:\n",
    "            continue\n",
    "\n",
    "        indexed.append(int(False))\n",
    "\n",
    "    return indexed\n"
   ]
  },
  {
   "cell_type": "code",
   "execution_count": 8,
   "metadata": {},
   "outputs": [],
   "source": [
    "playlist[\"genres_indexed\"] = [genres_indexed(\n",
    "    eval(playlist[\"genres\"][x])) for x in range(len(playlist[\"genres\"]))]\n"
   ]
  },
  {
   "cell_type": "code",
   "execution_count": 9,
   "metadata": {},
   "outputs": [],
   "source": [
    "playlist.columns = playlist.columns.map(lambda x: x.strip())"
   ]
  },
  {
   "cell_type": "code",
   "execution_count": 10,
   "metadata": {},
   "outputs": [],
   "source": [
    "playlist[\"artists_indexed\"] = [artists_indexed(\n",
    "    eval(playlist[\"artists\"][x])) for x in range(len(playlist[\"artists\"]))]\n"
   ]
  },
  {
   "cell_type": "code",
   "execution_count": 11,
   "metadata": {},
   "outputs": [
    {
     "data": {
      "text/plain": [
       "Index(['id', 'name', 'artists', 'popularity', 'genres', 'genres_indexed',\n",
       "       'artists_indexed'],\n",
       "      dtype='object')"
      ]
     },
     "execution_count": 11,
     "metadata": {},
     "output_type": "execute_result"
    }
   ],
   "source": [
    "playlist.columns\n"
   ]
  },
  {
   "cell_type": "markdown",
   "metadata": {},
   "source": [
    "## KNN\n"
   ]
  },
  {
   "cell_type": "code",
   "execution_count": 12,
   "metadata": {},
   "outputs": [],
   "source": [
    "def knn_prepared_data(df):\n",
    "    df = df[['id', 'name', 'genres', 'artists',\n",
    "             'popularity', 'genres_indexed', 'artists_indexed']]\n",
    "    list = []\n",
    "    for index in range(len(df['id'])):\n",
    "        list.append({'id': df['id'][index], 'name': df['name'][index], 'genres': df['genres'][index], 'artists': df['artists'][index],\n",
    "                    'popularity': df['popularity'][index], 'genres_indexed': df['genres_indexed'][index], 'artists_indexed': df['artists_indexed'][index]})\n",
    "\n",
    "    return list\n"
   ]
  },
  {
   "cell_type": "code",
   "execution_count": 13,
   "metadata": {},
   "outputs": [],
   "source": [
    "song_dict = knn_prepared_data(playlist)"
   ]
  },
  {
   "cell_type": "code",
   "execution_count": 14,
   "metadata": {},
   "outputs": [],
   "source": [
    "import operator\n",
    "\n",
    "\n",
    "def getNeighbors(song, K):\n",
    "    distances = []\n",
    "    for song_index, song_value in enumerate(song_dict):\n",
    "        if (song_index != song):\n",
    "            dist = ComputeDistance(song_dict[song], song_value)\n",
    "            distances.append((song_index, dist))\n",
    "    distances.sort(key=operator.itemgetter(1))\n",
    "    neighbors = []\n",
    "    for x in range(K):\n",
    "        neighbors.append(distances[x][0])\n",
    "    return neighbors\n"
   ]
  },
  {
   "cell_type": "code",
   "execution_count": 15,
   "metadata": {},
   "outputs": [],
   "source": [
    "def list_distance(a, b):\n",
    "    distance = 0\n",
    "    for item_a, item_b in list(zip(a, b)):\n",
    "        distance += 0 if item_a == item_b else 0.2 if (len(a) < 400) else 0.1\n",
    "\n",
    "    return distance"
   ]
  },
  {
   "cell_type": "code",
   "execution_count": 16,
   "metadata": {},
   "outputs": [],
   "source": [
    "def ComputeDistance(a, b):\n",
    "    genres_distance = list_distance(a['genres_indexed'], b['genres_indexed'])\n",
    "    artists_distance = list_distance(a['artists_indexed'], b['artists_indexed'])\n",
    "    popularity_distance = abs(a['popularity'] - b['popularity'])\n",
    "    \n",
    "    return genres_distance * 1.3 + artists_distance * 0.2 + popularity_distance * 0.004\n"
   ]
  },
  {
   "cell_type": "markdown",
   "metadata": {},
   "source": [
    "## Song options\n",
    "\n",
    "### Choose one of these to get the 50 closest songs to it\n"
   ]
  },
  {
   "cell_type": "code",
   "execution_count": 17,
   "metadata": {},
   "outputs": [],
   "source": [
    "def get_genres(genres):\n",
    "    all_genres = genres[0][:]\n",
    "\n",
    "    for index in range(1, len(genres)):\n",
    "        for i in range(0, len(all_genres)):\n",
    "            all_genres[i] = all_genres[i] or genres[index][i]\n",
    "\n",
    "    return all_genres\n",
    "\n",
    "    \n",
    "def get_artists(artists):\n",
    "    all_artists = artists[0][:]\n",
    "\n",
    "    for index in range(1, len(artists)):\n",
    "        for i in range(0, len(all_artists)):\n",
    "            all_artists[i] = all_artists[i] or artists[index][i]\n",
    "\n",
    "    return all_artists"
   ]
  },
  {
   "cell_type": "code",
   "execution_count": 18,
   "metadata": {},
   "outputs": [],
   "source": [
    "from functools import reduce\n",
    "\n",
    "top_5 = get('https://api.spotify.com/v1/me/top/tracks?time_range=short_term&limit=5', headers=headers).json()\n",
    "top_5_songs = list(filter(lambda song: song['name'] in list(playlist['name']), list(map(lambda song: {'name': song['name'], 'genres': get_song_genres(song), 'artists': list(map(lambda artist: artist['name'],song['artists'])), 'popularity': song['popularity']},top_5['items']))))\n"
   ]
  },
  {
   "cell_type": "code",
   "execution_count": 25,
   "metadata": {},
   "outputs": [
    {
     "data": {
      "text/plain": [
       "[{'name': \"I'm Leaving, Sorry For Your Loss\",\n",
       "  'genres': [],\n",
       "  'artists': ['iamnotshane'],\n",
       "  'popularity': 49},\n",
       " {'name': 'voicemails',\n",
       "  'genres': ['hawaiian hip hop'],\n",
       "  'artists': ['nøll', 'damnboy!'],\n",
       "  'popularity': 47},\n",
       " {'name': 'Fairytale',\n",
       "  'genres': [],\n",
       "  'artists': ['Livingston'],\n",
       "  'popularity': 65},\n",
       " {'name': 'Romeo',\n",
       "  'genres': [],\n",
       "  'artists': ['Bryce Xavier'],\n",
       "  'popularity': 52},\n",
       " {'name': 'Addicted to Her Sadness',\n",
       "  'genres': [],\n",
       "  'artists': ['Maro'],\n",
       "  'popularity': 37}]"
      ]
     },
     "execution_count": 25,
     "metadata": {},
     "output_type": "execute_result"
    }
   ],
   "source": [
    "top_5_songs"
   ]
  },
  {
   "cell_type": "code",
   "execution_count": 19,
   "metadata": {},
   "outputs": [],
   "source": [
    "temp_genres = list(reduce(lambda acc, x: acc + list(set(x['genres']) - set(acc)), top_5_songs, []))\n",
    "temp_artists = list(reduce(lambda acc, x: acc + list(set(x['artists']) - set(acc)), top_5_songs, []))\n",
    "latest_fav = {'id': \"\", 'name': \"Latest Favorites\", 'genres': temp_genres, 'artists': temp_artists}\n",
    "\n",
    "latest_fav['genres_indexed'] = get_genres(list(map(lambda song: genres_indexed(song['genres']), top_5_songs)))\n",
    "\n",
    "latest_fav['artists_indexed'] = get_artists(list(map(lambda song: artists_indexed(song['artists']), top_5_songs)))\n",
    "\n",
    "latest_fav['popularity'] = int(reduce(lambda acc, song: acc + int(song['popularity']), top_5_songs, 0) / len(top_5_songs))\n"
   ]
  },
  {
   "cell_type": "code",
   "execution_count": 20,
   "metadata": {},
   "outputs": [],
   "source": [
    "if len(song_dict) == len(songs):\n",
    "    song_dict.append(latest_fav)\n",
    "elif len(song_dict) == len(songs) + 1:\n",
    "    song_dict.pop()\n",
    "    song_dict.append(latest_fav)\n",
    "else:\n",
    "    raise Exception(\"error in lists indexes\")"
   ]
  },
  {
   "cell_type": "code",
   "execution_count": 21,
   "metadata": {},
   "outputs": [
    {
     "name": "stdout",
     "output_type": "stream",
     "text": [
      "Latest Favorites ['iamnotshane', 'damnboy!', 'nøll', 'Livingston', 'Bryce Xavier', 'Maro'] \n",
      " ['hawaiian hip hop'] 50\n",
      "1. voicemails \t ['nøll', 'damnboy!'] \t ['hawaiian hip hop'] \t 47\n",
      "2. I'm Leaving, Sorry For Your Loss \t ['iamnotshane'] \t [] \t 49\n",
      "3. Romeo \t ['Bryce Xavier'] \t [] \t 52\n",
      "4. Can’t You See \t [\"Why Don't We\"] \t ['boy band', 'dance pop', 'electropop', 'pop', 'post-teen pop', 'teen pop'] \t 50\n",
      "5. Bang \t ['Ryan Caraveo'] \t ['indie pop rap', 'pop rap', 'sad rap'] \t 50\n",
      "6. wipe your tears \t ['Halsey'] \t ['dance pop', 'electropop', 'etherpop', 'indie poptimism', 'pop'] \t 50\n",
      "7. little more time \t ['mike.'] \t ['indie pop rap', 'pop rap', 'rap', 'rhode island rap'] \t 50\n",
      "8. Mister Mister \t ['Mishaal'] \t ['lo-fi chill', 'sad lo-fi', 'sad rap'] \t 50\n",
      "9. Hell and Back \t ['Paradoxx'] \t ['emo rap', 'sad rap'] \t 50\n",
      "10. Strawberry Skies \t ['Kid Travis'] \t ['chill r&b', 'sad rap'] \t 50\n",
      "11. come home \t ['lilspirit'] \t [] \t 50\n",
      "12. Switchblade \t ['neverwaves'] \t [] \t 50\n",
      "13. Whatever Tomorrow \t ['Chet Faker'] \t ['art pop', 'indietronica'] \t 50\n",
      "14. Unlove \t ['Lyle Kam'] \t [] \t 50\n",
      "15. OH GOD \t ['marinelli'] \t ['modern indie pop'] \t 50\n",
      "16. when things were awkward \t ['Powfu'] \t ['sad rap'] \t 50\n",
      "17. as long as i have you \t ['Foster'] \t ['sad lo-fi', 'sad rap'] \t 50\n",
      "18. thor \t ['push baby'] \t ['uk pop'] \t 50\n",
      "19. Dim the Lights \t ['Ricky Rosen'] \t [] \t 50\n",
      "20. this is what a toxic relationship feels like \t ['Clinton Kane'] \t ['alt z', 'gen z singer-songwriter', 'pop'] \t 50\n",
      "21. Nervous \t ['Gavin James'] \t ['irish pop', 'neo mellow', 'pop', 'pop rock', 'viral pop'] \t 49\n",
      "22. Hopeless \t ['SadBoyProlific'] \t ['emo rap', 'sad lo-fi', 'sad rap'] \t 51\n",
      "23. I Can't Believe I Died \t ['Sik World'] \t ['pop rap', 'rap', 'sad rap'] \t 49\n",
      "24. Tired \t ['Anke Richards'] \t [] \t 49\n",
      "25. Why Haven't I Met You? \t ['Cameron Dallas'] \t ['teen pop'] \t 51\n",
      "26. Safe With Me \t ['Sam Smith'] \t ['dance pop', 'pop', 'uk pop'] \t 49\n",
      "27. Haunted \t ['Zimm'] \t ['sad rap'] \t 51\n",
      "28. Better \t ['Parachute'] \t ['acoustic pop', 'charlottesville indie', 'neo mellow', 'pop', 'pop rock', 'post-teen pop', 'viral pop'] \t 49\n",
      "29. Is It Too Late for Me \t ['Beowülf'] \t ['lo-fi chill', 'sad lo-fi', 'sad rap'] \t 49\n",
      "30. Wonder \t ['Spencer Sutherland'] \t ['pop soul'] \t 51\n",
      "31. im all alone \t ['lael'] \t [] \t 49\n",
      "32. The Idea Of Her \t ['Ali Gatie'] \t ['canadian hip hop', 'pop'] \t 49\n",
      "33. Helpless \t ['Ali Gatie'] \t ['canadian hip hop', 'pop'] \t 49\n",
      "34. Sunrise \t ['Ali Gatie'] \t ['canadian hip hop', 'pop'] \t 51\n",
      "35. stfu (i got u) \t ['Alaina Castillo'] \t ['alt z', 'chill r&b', 'pop', 'social media pop'] \t 49\n",
      "36. It's Getting Bad Again \t ['Ethan Jewell'] \t ['gen z singer-songwriter'] \t 51\n",
      "37. mars - Spotify Singles \t ['YUNGBLUD'] \t ['british indie rock', 'modern rock', 'pop', 'rock'] \t 49\n",
      "38. i can be your home \t ['sadeyes'] \t ['emo rap', 'sad lo-fi', 'sad rap'] \t 49\n",
      "39. The Story of the Paper Boy \t ['Powfu'] \t ['sad rap'] \t 51\n",
      "40. ghost me \t ['Camylio'] \t ['alt z', 'gen z singer-songwriter'] \t 49\n",
      "41. Lyrics \t ['Kyd the Band'] \t ['modern alternative rock'] \t 49\n",
      "42. Darkest Hour \t ['Andrea Russett'] \t ['alt z', 'social media pop'] \t 51\n",
      "43. desire \t ['Jeremy Zucker'] \t ['electropop', 'pop'] \t 51\n",
      "44. Nobody \t ['LIL DUSTY G'] \t ['aesthetic rap', 'dark trap', 'emo rap', 'sad lo-fi', 'sad rap'] \t 51\n",
      "45. Cut My Fingers Off \t ['Ethan Bortnick'] \t [] \t 51\n",
      "46. Don't Know Love \t ['J-Wright'] \t ['deep underground hip hop', 'indie pop rap'] \t 52\n",
      "47. Always \t ['Gavin James'] \t ['irish pop', 'neo mellow', 'pop', 'pop rock', 'viral pop'] \t 52\n",
      "48. Sweatpants \t ['Lauv'] \t ['dance pop', 'electropop', 'pop'] \t 52\n",
      "49. Fuck My Friends \t ['Eddie Benjamin'] \t ['modern indie pop'] \t 48\n",
      "50. Partners in Crime \t ['FINNEAS'] \t ['alt z', 'electropop', 'la indie', 'pop'] \t 48\n",
      "51. Don't Tell Me \t ['Ruel'] \t ['alt z', 'australian alternative pop', 'dance pop', 'electropop', 'pop'] \t 52\n"
     ]
    }
   ],
   "source": [
    "\n",
    "K = 51\n",
    "index = len(song_dict) - 1\n",
    "neighbors = getNeighbors(index, K)\n",
    "print(song_dict[index]['name'], song_dict[index]['artists'], '\\n', \n",
    "      song_dict[index]['genres'], song_dict[index]['popularity'])\n",
    "for neighbor, index in zip(neighbors, range(1, K + 1)):\n",
    "    print(\n",
    "        f'{index}. {song_dict[neighbor][\"name\"]} \\t {song_dict[neighbor][\"artists\"]} \\t {song_dict[neighbor][\"genres\"]} \\t {song_dict[neighbor][\"popularity\"]}')\n"
   ]
  },
  {
   "cell_type": "code",
   "execution_count": 22,
   "metadata": {},
   "outputs": [],
   "source": [
    "def playlist_exists(name):\n",
    "    request = get('https://api.spotify.com/v1/me/playlists', headers=headers).json()\n",
    "\n",
    "    playlists = list(map(lambda playlist: (playlist['id'], playlist['name']), request['items']))\n",
    "\n",
    "    for playlist in playlists:\n",
    "        if playlist[1] == name:\n",
    "            return playlist[0]\n",
    "        \n",
    "    return False"
   ]
  },
  {
   "cell_type": "code",
   "execution_count": 23,
   "metadata": {},
   "outputs": [
    {
     "name": "stdout",
     "output_type": "stream",
     "text": [
      "{'snapshot_id': 'OSxmYjU2Y2RjOWU0ZTRlODUwMWVhOGFlNWM3OTEzMjFhYWRlZTkxYjJk'}\n"
     ]
    }
   ],
   "source": [
    "import json\n",
    "playlist_name = 'Latest Favorites'\n",
    "new_id = \"\"\n",
    "playlist_id_found = playlist_exists(playlist_name)\n",
    "if playlist_id_found:\n",
    "    new_id = playlist_id_found\n",
    "    \n",
    "    playlist_tracks = list(map(lambda track: {'uri': track['track']['uri']}, get(f'https://api.spotify.com/v1/playlists/{new_id}/tracks', headers=headers).json()['items']))\n",
    "\n",
    "    delete_json = delete(f'https://api.spotify.com/v1/playlists/{new_id}/tracks',  headers=headers, data=json.dumps({\"tracks\": playlist_tracks})).json()\n",
    "    print(delete_json)\n",
    "else:\n",
    "    data = {\"name\": playlist_name, \"description\": f\"Songs related to your short term top 5\", \"public\": False}\n",
    "    playlist_creation = post(f'https://api.spotify.com/v1/users/{USER_ID}/playlists', headers=headers, data=json.dumps(data))\n",
    "    new_id = playlist_creation.json()['id']"
   ]
  },
  {
   "cell_type": "code",
   "execution_count": 24,
   "metadata": {},
   "outputs": [
    {
     "data": {
      "text/plain": [
       "{'snapshot_id': 'MTAsN2ZlNDYxZGE3ODNkMzlhNWU1MDllNTVhN2U0ZDZiMTQ4ZmNiYWQzNw=='}"
      ]
     },
     "execution_count": 24,
     "metadata": {},
     "output_type": "execute_result"
    }
   ],
   "source": [
    "song_uris = ''\n",
    "for neighbor in neighbors:\n",
    "    if song_dict[neighbor][\"id\"] != '':\n",
    "        song_uris += f',spotify:track:{song_dict[neighbor][\"id\"]}'\n",
    "    else:\n",
    "        continue\n",
    "song_uris = song_uris[1:]\n",
    "add_songs_req = post(f'https://api.spotify.com/v1/playlists/{new_id}/tracks?uris={song_uris}', headers=headers, data=json.dumps({}))\n",
    "add_songs_req.json()"
   ]
  }
 ],
 "metadata": {
  "interpreter": {
   "hash": "cfcfbbd76e88e95dc35e2ca9edf0c1e882d0553cc29bc4cac8c0f4eabeb0ecb9"
  },
  "kernelspec": {
   "display_name": "Python 3.10.1 64-bit",
   "language": "python",
   "name": "python3"
  },
  "language_info": {
   "codemirror_mode": {
    "name": "ipython",
    "version": 3
   },
   "file_extension": ".py",
   "mimetype": "text/x-python",
   "name": "python",
   "nbconvert_exporter": "python",
   "pygments_lexer": "ipython3",
   "version": "3.8.10"
  },
  "orig_nbformat": 4
 },
 "nbformat": 4,
 "nbformat_minor": 2
}
