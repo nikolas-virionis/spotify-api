{
 "cells": [
  {
   "cell_type": "code",
   "execution_count": null,
   "metadata": {},
   "outputs": [],
   "source": [
    "from requests import get, post, delete\n",
    "import pandas as pd\n",
    "from sensitiveOG import *"
   ]
  },
  {
   "cell_type": "code",
   "execution_count": null,
   "metadata": {},
   "outputs": [],
   "source": [
    "auth = f\"Bearer \"\n",
    "headers = {\"Accept\": \"application/json\",\n",
    "           \"Content-Type\": \"application/json\", \"Authorization\": auth}\n"
   ]
  },
  {
   "cell_type": "code",
   "execution_count": null,
   "metadata": {},
   "outputs": [],
   "source": [
    "artists = {}\n",
    "songs = []\n",
    "\n",
    "\n",
    "def get_total_song_count():\n",
    "    playlist_res = get(\n",
    "        f'https://api.spotify.com/v1/playlists/{PLAYLIST_ID}', headers=headers)\n",
    "    return playlist_res.json()[\"tracks\"][\"total\"]\n",
    "\n",
    "\n",
    "def add_genres(list, genres):\n",
    "    for genre in genres:\n",
    "        if genre not in list:\n",
    "            list.append(genre)\n",
    "\n",
    "    return list\n",
    "\n",
    "\n",
    "def get_song_genres(song):\n",
    "    genres = []\n",
    "    song_artists = \"\"\n",
    "    try:\n",
    "        song_artists = song[\"track\"][\"artists\"]\n",
    "    except Exception:\n",
    "        song_artists = song[\"artists\"]\n",
    "\n",
    "    for artist in song_artists:\n",
    "        id = artist[\"id\"]\n",
    "        if id not in artists:\n",
    "            artist_genres_res = get(\n",
    "                f'https://api.spotify.com/v1/artists/{id}', headers=headers)\n",
    "            try:\n",
    "                artist_genres = artist_genres_res.json()[\"genres\"]\n",
    "            except Exception:\n",
    "                print(artist_genres_res.json())\n",
    "            genres = add_genres(genres, artist_genres)\n",
    "            artists[artist[\"name\"]] = artist_genres\n",
    "        else:\n",
    "            genres = add_genres(genres, artists[id])\n",
    "\n",
    "    return genres\n",
    "\n",
    "\n",
    "def song_data(song):\n",
    "    return song[\"track\"]['id'], song[\"track\"]['name'], song[\"track\"]['popularity'], [artist[\"name\"] for artist in song[\"track\"][\"artists\"]]\n"
   ]
  },
  {
   "cell_type": "code",
   "execution_count": null,
   "metadata": {},
   "outputs": [],
   "source": [
    "total_song_count = get_total_song_count()"
   ]
  },
  {
   "cell_type": "code",
   "execution_count": null,
   "metadata": {},
   "outputs": [],
   "source": [
    "\n",
    "\n",
    "all_genres = []\n",
    "for offset in range(0, total_song_count, 100):\n",
    "    all_genres_res = get(\n",
    "        f'https://api.spotify.com/v1/playlists/{PLAYLIST_ID}/tracks?limit=100&offset={offset}', headers=headers)\n",
    "    for song in all_genres_res.json()[\"items\"]:\n",
    "        (id, name, popularity, artist), song_genres = song_data(\n",
    "            song), get_song_genres(song)\n",
    "        songs.append({\"id\": id, \"name\": name, \"artists\": artist,\n",
    "                     \"popularity\": popularity, \"genres\": song_genres})\n",
    "        all_genres = add_genres(all_genres, song_genres)\n"
   ]
  },
  {
   "cell_type": "code",
   "execution_count": null,
   "metadata": {},
   "outputs": [],
   "source": [
    "songs = songs[-total_song_count:]"
   ]
  },
  {
   "cell_type": "code",
   "execution_count": null,
   "metadata": {},
   "outputs": [],
   "source": [
    "playlist = pd.DataFrame(data=songs, columns=[\n",
    "                        'id', 'name', 'artists', 'popularity', 'genres'])\n"
   ]
  },
  {
   "cell_type": "code",
   "execution_count": null,
   "metadata": {},
   "outputs": [],
   "source": [
    "playlist\n"
   ]
  },
  {
   "cell_type": "code",
   "execution_count": null,
   "metadata": {},
   "outputs": [],
   "source": [
    "df = pd.DataFrame(data=[{'artists':artists, 'songs':songs, 'all_genres':all_genres}], columns=['artists', 'songs', 'all_genres'])\n",
    "\n",
    "df.to_json('util.json')"
   ]
  },
  {
   "cell_type": "code",
   "execution_count": null,
   "metadata": {},
   "outputs": [],
   "source": [
    "playlist.to_csv('playlist.csv', header=True, index=None)"
   ]
  },
  {
   "cell_type": "code",
   "execution_count": null,
   "metadata": {},
   "outputs": [],
   "source": [
    "df = pd.read_json('util.json')\n",
    "\n",
    "artists, songs, all_genres = df['artists'][0], df['songs'][0], df['all_genres'][0]\n"
   ]
  },
  {
   "cell_type": "code",
   "execution_count": null,
   "metadata": {},
   "outputs": [],
   "source": [
    "all_artists = list(artists.keys())\n",
    "playlist = pd.read_csv('playlist.csv')\n",
    "playlist"
   ]
  },
  {
   "cell_type": "code",
   "execution_count": null,
   "metadata": {},
   "outputs": [],
   "source": [
    "def genres_indexed(genres):\n",
    "    indexed = []\n",
    "    for all_genres_x in all_genres:\n",
    "\n",
    "        continue_outer = False\n",
    "        for genre in genres:\n",
    "            index = all_genres_x == genre\n",
    "            if index:\n",
    "                continue_outer = True\n",
    "                indexed.append(int(True))\n",
    "                break\n",
    "\n",
    "        if continue_outer:\n",
    "            continue\n",
    "\n",
    "        indexed.append(int(False))\n",
    "\n",
    "    return indexed\n",
    "\n",
    "\n",
    "def artists_indexed(artists):\n",
    "    indexed = []\n",
    "    for all_artists_x in all_artists:\n",
    "\n",
    "        continue_outer = False\n",
    "        for genre in artists:\n",
    "            index = all_artists_x == genre\n",
    "            if index:\n",
    "                continue_outer = True\n",
    "                indexed.append(int(True))\n",
    "                break\n",
    "\n",
    "        if continue_outer:\n",
    "            continue\n",
    "\n",
    "        indexed.append(int(False))\n",
    "\n",
    "    return indexed\n"
   ]
  },
  {
   "cell_type": "code",
   "execution_count": null,
   "metadata": {},
   "outputs": [],
   "source": [
    "playlist[\"genres_indexed\"] = [genres_indexed(\n",
    "    eval(playlist[\"genres\"][x])) for x in range(len(playlist[\"genres\"]))]\n"
   ]
  },
  {
   "cell_type": "code",
   "execution_count": null,
   "metadata": {},
   "outputs": [],
   "source": [
    "playlist.columns = playlist.columns.map(lambda x: x.strip())"
   ]
  },
  {
   "cell_type": "code",
   "execution_count": null,
   "metadata": {},
   "outputs": [],
   "source": [
    "playlist[\"artists_indexed\"] = [artists_indexed(\n",
    "    eval(playlist[\"artists\"][x])) for x in range(len(playlist[\"artists\"]))]\n"
   ]
  },
  {
   "cell_type": "code",
   "execution_count": null,
   "metadata": {},
   "outputs": [],
   "source": [
    "playlist.columns\n"
   ]
  },
  {
   "cell_type": "markdown",
   "metadata": {},
   "source": [
    "## KNN\n"
   ]
  },
  {
   "cell_type": "code",
   "execution_count": null,
   "metadata": {},
   "outputs": [],
   "source": [
    "def knn_prepared_data(df):\n",
    "    df = df[['id', 'name', 'genres', 'artists',\n",
    "             'popularity', 'genres_indexed', 'artists_indexed']]\n",
    "    list = []\n",
    "    for index in range(len(df['id'])):\n",
    "        list.append({'id': df['id'][index], 'name': df['name'][index], 'genres': df['genres'][index], 'artists': df['artists'][index],\n",
    "                    'popularity': df['popularity'][index], 'genres_indexed': df['genres_indexed'][index], 'artists_indexed': df['artists_indexed'][index]})\n",
    "\n",
    "    return list\n"
   ]
  },
  {
   "cell_type": "code",
   "execution_count": null,
   "metadata": {},
   "outputs": [],
   "source": [
    "song_dict = knn_prepared_data(playlist)"
   ]
  },
  {
   "cell_type": "code",
   "execution_count": null,
   "metadata": {},
   "outputs": [],
   "source": [
    "import operator\n",
    "\n",
    "\n",
    "def getNeighbors(song, K):\n",
    "    distances = []\n",
    "    for song_index, song_value in enumerate(song_dict):\n",
    "        if (song_index != song):\n",
    "            dist = ComputeDistance(song_dict[song], song_value)\n",
    "            distances.append((song_index, dist))\n",
    "    distances.sort(key=operator.itemgetter(1))\n",
    "    neighbors = []\n",
    "    for x in range(K):\n",
    "        neighbors.append([*distances[x]])\n",
    "    return neighbors\n"
   ]
  },
  {
   "cell_type": "code",
   "execution_count": null,
   "metadata": {},
   "outputs": [],
   "source": [
    "def list_distance(a, b):\n",
    "    distance = 0\n",
    "    for item_a, item_b in list(zip(a, b)):\n",
    "        if item_a != item_b:\n",
    "            if int(item_a) == 1:\n",
    "                distance += 0.4\n",
    "            else:\n",
    "                distance += 0.2\n",
    "        else:\n",
    "            if int(item_a) == 1:\n",
    "                distance -= 0.4\n",
    "\n",
    "    return distance"
   ]
  },
  {
   "cell_type": "code",
   "execution_count": null,
   "metadata": {},
   "outputs": [],
   "source": [
    "def ComputeDistance(a, b):\n",
    "    genres_distance = list_distance(a['genres_indexed'], b['genres_indexed'])\n",
    "    artists_distance = list_distance(a['artists_indexed'], b['artists_indexed'])\n",
    "    popularity_distance = abs(a['popularity'] - b['popularity'])\n",
    "    \n",
    "    return genres_distance + artists_distance * 0.4 + (popularity_distance * 0.005)\n"
   ]
  },
  {
   "cell_type": "markdown",
   "metadata": {},
   "source": [
    "## Song options\n",
    "\n",
    "### Choose one of these to get the 50 closest songs to it\n"
   ]
  },
  {
   "cell_type": "code",
   "execution_count": null,
   "metadata": {},
   "outputs": [],
   "source": [
    "def get_genres(genres):\n",
    "    all_genres = genres[0][:]\n",
    "\n",
    "    for index in range(1, len(genres)):\n",
    "        for i in range(0, len(all_genres)):\n",
    "            all_genres[i] = all_genres[i] or genres[index][i]\n",
    "\n",
    "    return all_genres\n",
    "\n",
    "    \n",
    "def get_artists(artists):\n",
    "    all_artists = artists[0][:]\n",
    "\n",
    "    for index in range(1, len(artists)):\n",
    "        for i in range(0, len(all_artists)):\n",
    "            all_artists[i] = all_artists[i] or artists[index][i]\n",
    "\n",
    "    return all_artists"
   ]
  },
  {
   "cell_type": "code",
   "execution_count": null,
   "metadata": {},
   "outputs": [],
   "source": [
    "from functools import reduce\n",
    "\n",
    "top_5 = get('https://api.spotify.com/v1/me/top/tracks?time_range=short_term&limit=5', headers=headers).json()\n",
    "top_5_songs = list(filter(lambda song: song['name'] in list(playlist['name']), list(map(lambda song: {'name': song['name'], 'genres': get_song_genres(song), 'artists': list(map(lambda artist: artist['name'],song['artists'])), 'popularity': song['popularity']},top_5['items']))))\n"
   ]
  },
  {
   "cell_type": "code",
   "execution_count": null,
   "metadata": {},
   "outputs": [],
   "source": [
    "top_5_songs"
   ]
  },
  {
   "cell_type": "code",
   "execution_count": null,
   "metadata": {},
   "outputs": [],
   "source": [
    "temp_genres = list(reduce(lambda acc, x: acc + list(set(x['genres']) - set(acc)), top_5_songs, []))\n",
    "temp_artists = list(reduce(lambda acc, x: acc + list(set(x['artists']) - set(acc)), top_5_songs, []))\n",
    "latest_fav = {'id': \"\", 'name': \"Latest Favorites\", 'genres': temp_genres, 'artists': temp_artists}\n",
    "\n",
    "latest_fav['genres_indexed'] = get_genres(list(map(lambda song: genres_indexed(song['genres']), top_5_songs)))\n",
    "\n",
    "latest_fav['artists_indexed'] = get_artists(list(map(lambda song: artists_indexed(song['artists']), top_5_songs)))\n",
    "\n",
    "latest_fav['popularity'] = int(reduce(lambda acc, song: acc + int(song['popularity']), top_5_songs, 0) / len(top_5_songs))\n"
   ]
  },
  {
   "cell_type": "code",
   "execution_count": null,
   "metadata": {},
   "outputs": [],
   "source": [
    "if len(song_dict) == len(songs):\n",
    "    song_dict.append(latest_fav)\n",
    "elif len(song_dict) == len(songs) + 1:\n",
    "    song_dict.pop()\n",
    "    song_dict.append(latest_fav)\n",
    "else:\n",
    "    raise Exception(\"error in lists indexes\")"
   ]
  },
  {
   "cell_type": "code",
   "execution_count": null,
   "metadata": {},
   "outputs": [],
   "source": [
    "\n",
    "K = 51\n",
    "index = len(song_dict) - 1\n",
    "neighbors = getNeighbors(index, K)\n",
    "print(song_dict[index]['name'], song_dict[index]['artists'], '\\n', \n",
    "      song_dict[index]['genres'], song_dict[index]['popularity'])\n",
    "for neighbor, index in zip(neighbors, range(1, K + 1)):\n",
    "    print(\n",
    "        f'{index}. {song_dict[neighbor[0]][\"name\"]} \\t {song_dict[neighbor[0]][\"artists\"]} \\t {song_dict[neighbor[0]][\"genres\"]} \\t {song_dict[neighbor[0]][\"popularity\"]} \\t {neighbor[1]}')\n"
   ]
  },
  {
   "cell_type": "code",
   "execution_count": null,
   "metadata": {},
   "outputs": [],
   "source": [
    "def playlist_exists(name):\n",
    "    request = get('https://api.spotify.com/v1/me/playlists', headers=headers).json()\n",
    "\n",
    "    playlists = list(map(lambda playlist: (playlist['id'], playlist['name']), request['items']))\n",
    "\n",
    "    for playlist in playlists:\n",
    "        if playlist[1] == name:\n",
    "            return playlist[0]\n",
    "        \n",
    "    return False"
   ]
  },
  {
   "cell_type": "code",
   "execution_count": null,
   "metadata": {},
   "outputs": [],
   "source": [
    "import json\n",
    "playlist_name = 'Latest Favorites'\n",
    "new_id = \"\"\n",
    "playlist_id_found = playlist_exists(playlist_name)\n",
    "if playlist_id_found:\n",
    "    new_id = playlist_id_found\n",
    "    \n",
    "    playlist_tracks = list(map(lambda track: {'uri': track['track']['uri']}, get(f'https://api.spotify.com/v1/playlists/{new_id}/tracks', headers=headers).json()['items']))\n",
    "\n",
    "    delete_json = delete(f'https://api.spotify.com/v1/playlists/{new_id}/tracks',  headers=headers, data=json.dumps({\"tracks\": playlist_tracks})).json()\n",
    "    print(delete_json)\n",
    "else:\n",
    "    data = {\"name\": playlist_name, \"description\": f\"Songs related to your short term top 5\", \"public\": False}\n",
    "    playlist_creation = post(f'https://api.spotify.com/v1/users/{USER_ID}/playlists', headers=headers, data=json.dumps(data))\n",
    "    new_id = playlist_creation.json()['id']"
   ]
  },
  {
   "cell_type": "code",
   "execution_count": null,
   "metadata": {},
   "outputs": [],
   "source": [
    "song_uris = ''\n",
    "for neighbor in neighbors:\n",
    "    if song_dict[neighbor][\"id\"] != '':\n",
    "        song_uris += f',spotify:track:{song_dict[neighbor][\"id\"]}'\n",
    "    else:\n",
    "        continue\n",
    "song_uris = song_uris[1:]\n",
    "add_songs_req = post(f'https://api.spotify.com/v1/playlists/{new_id}/tracks?uris={song_uris}', headers=headers, data=json.dumps({}))\n",
    "add_songs_req.json()"
   ]
  }
 ],
 "metadata": {
  "interpreter": {
   "hash": "cfcfbbd76e88e95dc35e2ca9edf0c1e882d0553cc29bc4cac8c0f4eabeb0ecb9"
  },
  "kernelspec": {
   "display_name": "Python 3.10.1 64-bit",
   "language": "python",
   "name": "python3"
  },
  "language_info": {
   "codemirror_mode": {
    "name": "ipython",
    "version": 3
   },
   "file_extension": ".py",
   "mimetype": "text/x-python",
   "name": "python",
   "nbconvert_exporter": "python",
   "pygments_lexer": "ipython3",
   "version": "3.8.10"
  },
  "orig_nbformat": 4
 },
 "nbformat": 4,
 "nbformat_minor": 2
}
